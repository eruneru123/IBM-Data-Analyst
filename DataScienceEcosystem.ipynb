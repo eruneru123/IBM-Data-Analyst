{
 "cells": [
  {
   "cell_type": "markdown",
   "id": "82ef641b-3d78-4a85-ad05-62cd87e3fd7f",
   "metadata": {},
   "source": [
    " ## Data Science Tools and Ecosystem"
   ]
  },
  {
   "cell_type": "markdown",
   "id": "58da3cc3-700f-48a6-b9d9-f6ad17c37fe0",
   "metadata": {},
   "source": [
    "In this notebook, Data Science Tools and Ecosystem are summarized."
   ]
  },
  {
   "cell_type": "markdown",
   "id": "bb818fd9-597c-4377-8f09-7db055a291ad",
   "metadata": {},
   "source": [
    "**Objectives:**\n",
    "- List popular languages for Data Science\n",
    "- Commonly used libraries for Data Science\n",
    "- Arithmetic expressions in Python\n",
    "               "
   ]
  },
  {
   "cell_type": "markdown",
   "id": "0051620c-55de-44b5-a692-647e92a98803",
   "metadata": {},
   "source": [
    "Some of the popular languages that Data Scientists use are:\n",
    "1. Python\n",
    "2. R\n",
    "3. SQL\n",
    "4. Java\n",
    "5. Julia"
   ]
  },
  {
   "cell_type": "markdown",
   "id": "82da403a-9d4d-4b65-aefa-6302178f1278",
   "metadata": {},
   "source": [
    "Some of the commonly used libraries used by Data Scientists include:\n",
    "- Numpy\n",
    "- Pandas\n",
    "- Matplotlib\n",
    "- Seaborn\n",
    "- Scikit-learn"
   ]
  },
  {
   "cell_type": "markdown",
   "id": "803e4b1f-486a-4158-938e-66ac25cdcfdf",
   "metadata": {},
   "source": [
    "|Data Science Tools|\n",
    "|------------------|\n",
    "|Jupyter Notebook|\n",
    "|R studio|\n",
    "|Visual Studio Code|"
   ]
  },
  {
   "cell_type": "markdown",
   "id": "322fdf70-b68d-4c70-b73d-adeca813f724",
   "metadata": {},
   "source": [
    "### Below are a few examples of evaluating arithmetic expressions in Python\n"
   ]
  },
  {
   "cell_type": "code",
   "execution_count": 1,
   "id": "40f14e20-0644-4372-a6b2-a4712104f674",
   "metadata": {},
   "outputs": [
    {
     "name": "stdout",
     "output_type": "stream",
     "text": [
      "17\n"
     ]
    }
   ],
   "source": [
    "# This a simple arithmetic expression to mutiply then add integers\n",
    "print((3*4)+5)"
   ]
  },
  {
   "cell_type": "code",
   "execution_count": 2,
   "id": "10006c58-c66b-4369-b9e3-d565a9019774",
   "metadata": {},
   "outputs": [
    {
     "name": "stdout",
     "output_type": "stream",
     "text": [
      "3.3333333333333335\n"
     ]
    }
   ],
   "source": [
    "# This will convert 200 minutes to hours by diving by 60'\n",
    "min=200\n",
    "hour=min/60\n",
    "print(hour)"
   ]
  },
  {
   "cell_type": "markdown",
   "id": "950ce0bd-7f63-4be3-ab53-643a6f4808c3",
   "metadata": {},
   "source": [
    "## Author\n",
    "Francesca Putri"
   ]
  },
  {
   "cell_type": "code",
   "execution_count": null,
   "id": "c40981ff-a353-4f23-81be-16a0fe95ab2e",
   "metadata": {},
   "outputs": [],
   "source": []
  }
 ],
 "metadata": {
  "kernelspec": {
   "display_name": "Python 3 (ipykernel)",
   "language": "python",
   "name": "python3"
  },
  "language_info": {
   "codemirror_mode": {
    "name": "ipython",
    "version": 3
   },
   "file_extension": ".py",
   "mimetype": "text/x-python",
   "name": "python",
   "nbconvert_exporter": "python",
   "pygments_lexer": "ipython3",
   "version": "3.12.2"
  }
 },
 "nbformat": 4,
 "nbformat_minor": 5
}
